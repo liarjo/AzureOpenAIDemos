{
 "cells": [
  {
   "attachments": {},
   "cell_type": "markdown",
   "metadata": {},
   "source": [
    "# Azure OpenAI SDK\n",
    "This first example shows how to create a basic chatbot using the SDK."
   ]
  },
  {
   "attachments": {},
   "cell_type": "markdown",
   "metadata": {},
   "source": [
    "## A. Basic BOT\n"
   ]
  },
  {
   "attachments": {},
   "cell_type": "markdown",
   "metadata": {},
   "source": [
    "1. Import SDK"
   ]
  },
  {
   "cell_type": "code",
   "execution_count": null,
   "metadata": {
    "dotnet_interactive": {
     "language": "csharp"
    },
    "polyglot_notebook": {
     "kernelName": "csharp"
    },
    "vscode": {
     "languageId": "polyglot-notebook"
    }
   },
   "outputs": [],
   "source": [
    "#r \"nuget: Azure.AI.OpenAI, 1.0.0-beta.5\""
   ]
  },
  {
   "attachments": {},
   "cell_type": "markdown",
   "metadata": {},
   "source": [
    "2. Load Configuration"
   ]
  },
  {
   "cell_type": "code",
   "execution_count": null,
   "metadata": {
    "dotnet_interactive": {
     "language": "csharp"
    },
    "polyglot_notebook": {
     "kernelName": "csharp"
    },
    "vscode": {
     "languageId": "polyglot-notebook"
    }
   },
   "outputs": [],
   "source": [
    "// Import the helper class to load configuration values\n",
    "#!import ../Config/TheHelper.cs\n",
    "\n",
    "// Load configuration values\n",
    "string endpoint = TheHelper.GetConfigurationValue(\"endpoint\");\n",
    "string apiKey = TheHelper.GetConfigurationValue(\"apikey\");\n",
    "string deploymentName = TheHelper.GetConfigurationValue(\"DeploymentName\");"
   ]
  },
  {
   "attachments": {},
   "cell_type": "markdown",
   "metadata": {},
   "source": [
    "3. Create ApeinAI Client"
   ]
  },
  {
   "cell_type": "code",
   "execution_count": null,
   "metadata": {
    "dotnet_interactive": {
     "language": "csharp"
    },
    "polyglot_notebook": {
     "kernelName": "csharp"
    },
    "vscode": {
     "languageId": "polyglot-notebook"
    }
   },
   "outputs": [],
   "source": [
    "// Import the necessary namespaces\n",
    "using Azure;\n",
    "using Azure.AI.OpenAI;\n",
    "using static System.Environment;\n",
    "using Microsoft.DotNet.Interactive;\n",
    "\n",
    "// Create a new OpenAI client using the specified endpoint and API key\n",
    "OpenAIClient client = new(new Uri(endpoint), new AzureKeyCredential(apiKey));\n",
    "\n",
    "// Print the endpoint and engine name to the console\n",
    "Console.Write($\"endpoint: {endpoint}\\n\");\n",
    "Console.Write($\"engine: {deploymentName}\\n\");"
   ]
  },
  {
   "attachments": {},
   "cell_type": "markdown",
   "metadata": {},
   "source": [
    "4. Set the Assistan using System message (Prompt)\n",
    "\n",
    "The `system message` is used to provide contextual instructions or guidelines to the language model before generating a response. It helps steer the `model's behavior` and can be used to specify the desired format, style, or tone of the response. The system message is typically included at the beginning of the conversation and serves as an input prompt for the model.\n"
   ]
  },
  {
   "cell_type": "code",
   "execution_count": null,
   "metadata": {
    "dotnet_interactive": {
     "language": "csharp"
    },
    "polyglot_notebook": {
     "kernelName": "csharp"
    },
    "vscode": {
     "languageId": "polyglot-notebook"
    }
   },
   "outputs": [],
   "source": [
    "// Define the chat completion options\n",
    "var chatCompletionsOptions = new ChatCompletionsOptions()\n",
    "{\n",
    "    Messages =\n",
    "    {\n",
    "        // Send a system message to set the context\n",
    "        new ChatMessage(ChatRole.System, \"You are Rick from the TV show Rick & Morty. Pretend to be Rick.\"),\n",
    "        \n",
    "        // Send a user message to prompt for an introduction\n",
    "        new ChatMessage(ChatRole.User, \"Introduce yourself.\"),\n",
    "    },\n",
    "    MaxTokens = 100\n",
    "};\n",
    "\n",
    "// Send the chat completion options to the OpenAI API and get a response\n",
    "Response<ChatCompletions> response = client.GetChatCompletions(deploymentOrModelName: deploymentName, chatCompletionsOptions);\n",
    "\n",
    "// Print the response to the console\n",
    "Console.WriteLine(\"Rick: \" + response.Value.Choices[0].Message.Content);\n",
    "Console.WriteLine();"
   ]
  },
  {
   "attachments": {},
   "cell_type": "markdown",
   "metadata": {},
   "source": [
    "# B. Stream the chat response \n"
   ]
  },
  {
   "attachments": {},
   "cell_type": "markdown",
   "metadata": {},
   "source": [
    "This code prompts the user for input and sends it to the OpenAI API as a chat message. It then receives and prints chat responses in an infinite loop. The chat messages are stored in a `ChatCompletionsOptions` object, which is sent to the OpenAI API using a `GetChatCompletionsStreamingAsync` method. The chat responses are received using a `GetChoicesStreaming` method and printed to the console using a `StringBuilder` object. The chat responses are then added to the `ChatCompletionsOptions` object as an assistant message, and the loop continues."
   ]
  },
  {
   "cell_type": "code",
   "execution_count": null,
   "metadata": {
    "dotnet_interactive": {
     "language": "csharp"
    },
    "polyglot_notebook": {
     "kernelName": "csharp"
    },
    "vscode": {
     "languageId": "polyglot-notebook"
    }
   },
   "outputs": [],
   "source": [
    "// Prompt the user for input and send it to the OpenAI API as a chat message\n",
    "Console.Write(\"Morty prompt: \");\n",
    "var userMessage = await Kernel.GetInputAsync(\"Morty prompt:\");\n",
    "Console.WriteLine(userMessage);\n",
    "\n",
    "chatCompletionsOptions.Messages.Add(new ChatMessage(ChatRole.User, userMessage));\n",
    "\n",
    "// Start an infinite loop to receive chat responses from the OpenAI API\n",
    "while (true)\n",
    "{\n",
    "    Console.Write(\"Rick: \");\n",
    "\n",
    "    // Send the chat completion options to the OpenAI API and get a streaming response\n",
    "    var chatCompletionsResponse = await client.GetChatCompletionsStreamingAsync(deploymentName, chatCompletionsOptions);\n",
    "\n",
    "    // Build a string containing the chat response and print it to the console\n",
    "    var chatResponseBuilder = new StringBuilder();\n",
    "    await foreach (var chatChoice in chatCompletionsResponse.Value.GetChoicesStreaming())\n",
    "    {\n",
    "        await foreach (var chatMessage in chatChoice.GetMessageStreaming())\n",
    "        {\n",
    "            chatResponseBuilder.Append(chatMessage.Content);\n",
    "            Console.Write(chatMessage.Content);\n",
    "            await Task.Delay(TimeSpan.FromMilliseconds(200));\n",
    "        }\n",
    "    }\n",
    "\n",
    "    // Add the chat response to the chat completion options as an assistant message\n",
    "    chatCompletionsOptions.Messages.Add(new ChatMessage(ChatRole.Assistant, chatResponseBuilder.ToString()));\n",
    "\n",
    "    Console.WriteLine();\n",
    "\n",
    "    // Prompt the user for input and send it to the OpenAI API as a chat message\n",
    "    Console.Write(\"Morty prompt: \");\n",
    "    var userMessage = await Kernel.GetInputAsync(\"Morty prompt:\");\n",
    "    Console.Write(userMessage);\n",
    "\n",
    "    chatCompletionsOptions.Messages.Add(new ChatMessage(ChatRole.User, userMessage));\n",
    "    Console.WriteLine();\n",
    "}"
   ]
  },
  {
   "attachments": {},
   "cell_type": "markdown",
   "metadata": {},
   "source": [
    "Next Sample [Prompt with clear instructions](./2.ClearInstructions.ipynb)"
   ]
  }
 ],
 "metadata": {
  "language_info": {
   "name": "python"
  },
  "orig_nbformat": 4
 },
 "nbformat": 4,
 "nbformat_minor": 2
}
