{
 "cells": [
  {
   "attachments": {},
   "cell_type": "markdown",
   "metadata": {},
   "source": [
    "# Give clearer instructions\n",
    "\n",
    "\n",
    "\n"
   ]
  },
  {
   "attachments": {},
   "cell_type": "markdown",
   "metadata": {},
   "source": [
    "\n",
    "### 1:Few-shot learning\n",
    "A common way to adapt language models to new tasks is to use few-shot learning. In few-shot learning, a set of training examples is provided as part of the prompt to give additional context to the model.\n",
    "\n",
    "When using the Chat Completions API, a series of messages between the User and Assistant (written in the new prompt format), can serve as examples for few-shot learning. These examples can be used to prime the model to respond in a certain way, emulate particular behaviors, and seed answers to common questions."
   ]
  },
  {
   "cell_type": "code",
   "execution_count": null,
   "metadata": {
    "dotnet_interactive": {
     "language": "csharp"
    },
    "polyglot_notebook": {
     "kernelName": "csharp"
    },
    "vscode": {
     "languageId": "polyglot-notebook"
    }
   },
   "outputs": [],
   "source": [
    "\n",
    "#r \"nuget: Azure.AI.OpenAI, 1.0.0-beta.5\"\n",
    "\n",
    "using Azure;\n",
    "using Azure.AI.OpenAI;\n",
    "using static System.Environment;\n",
    "\n",
    "// Import the helper class to load configuration values\n",
    "#!import ../Config/TheHelper.cs\n",
    "\n",
    "// Load configuration values\n",
    "string endpoint = TheHelper.GetConfigurationValue(\"endpoint\");\n",
    "string apiKey = TheHelper.GetConfigurationValue(\"apikey\");\n",
    "string deploymentName = TheHelper.GetConfigurationValue(\"DeploymentName\");\n",
    "\n",
    "// Create the OpenAI client\n",
    "OpenAIClient client = new(new Uri(endpoint), new AzureKeyCredential(apiKey));\n",
    "\n",
    "// Print a message to indicate that the client is ready to use\n",
    "Console.WriteLine(\"OpenAI client is ready to use.\");"
   ]
  },
  {
   "attachments": {},
   "cell_type": "markdown",
   "metadata": {},
   "source": [
    "**System Message**\n",
    "\n",
    "Assistant is an intelligent chatbot designed to help users answer their tax related questions.\n",
    "Instructions\n",
    "- Only answer questions related to taxes.\n",
    "- If you're unsure of an answer, you can say \"I don't know\" or \"I'm not sure\" and recommend users go to the IRS website for more information.\n",
    "\n",
    "**Few-shot examples**\n",
    "- User - \"When do I need to file my taxes by?\"\n",
    "- Assistant - \"In 2023, you will need to file your taxes by April 18th. The date falls after the usual April 15th deadline because April 15th falls on a Saturday in 2023. For more details, see https://www.irs.gov/filing/individuals/when-to-file \"\n",
    "\n",
    "- User - \"How can I check the status of my tax refund?\"\n",
    "- Assistant - \"You can check the status of your tax refund by visiting https://www.irs.gov/refunds \""
   ]
  },
  {
   "cell_type": "code",
   "execution_count": null,
   "metadata": {
    "dotnet_interactive": {
     "language": "csharp"
    },
    "polyglot_notebook": {
     "kernelName": "csharp"
    },
    "vscode": {
     "languageId": "polyglot-notebook"
    }
   },
   "outputs": [],
   "source": [
    "// Create a new ChatCompletionsOptions object\n",
    "var chatCompletionsOptions = new ChatCompletionsOptions()\n",
    "{\n",
    "    // Define the messages to be used in the chat\n",
    "    Messages =\n",
    "    {\n",
    "        // Add a system message to explain the purpose of the chatbot\n",
    "        new ChatMessage(ChatRole.System, \n",
    "        @\"Assistant is an intelligent chatbot designed to help users answer their tax related questions.\n",
    "        Instructions\n",
    "        - Only answer questions related to taxes.\n",
    "        - If you're unsure of an answer, you can say \"\"I don't know\"\" or \"\"I'm not sure\"\" and recommend users go to the IRS website for more information.\" ),\n",
    "        \n",
    "        // Add a user message to ask when taxes need to be filed\n",
    "        new ChatMessage(ChatRole.User, \"When do I need to file my taxes by?\"),\n",
    "        \n",
    "        // Add an assistant message to answer the user's question\n",
    "        new ChatMessage(ChatRole.Assistant, @\"In 2023, you will need to file your taxes by April 18th. The date falls after the usual April 15th deadline \n",
    "        because April 15th falls on a Saturday in 2023. For more details, see https://www.irs.gov/filing/individuals/when-to-file\"),\n",
    "        \n",
    "        // Add a user message to ask how to check the status of a tax refund\n",
    "        new ChatMessage(ChatRole.User, \"How can I check the status of my tax refund?\"),\n",
    "        \n",
    "        // Add an assistant message to answer the user's question\n",
    "        new ChatMessage(ChatRole.Assistant, \"You can check the status of your tax refund by visiting https://www.irs.gov/refunds\"),\n",
    "    },\n",
    "    \n",
    "    // Set the maximum number of tokens to be used in the chat\n",
    "    MaxTokens = 100\n",
    "};\n",
    "\n",
    "// Print a message to indicate that the chat messages are ready to use\n",
    "Console.WriteLine(\"System Message and fewshots ready.\");"
   ]
  },
  {
   "attachments": {},
   "cell_type": "markdown",
   "metadata": {},
   "source": [
    "In this code, we are testing a question that falls `outside the scope` of the chatbot."
   ]
  },
  {
   "cell_type": "code",
   "execution_count": null,
   "metadata": {
    "dotnet_interactive": {
     "language": "csharp"
    },
    "polyglot_notebook": {
     "kernelName": "csharp"
    },
    "vscode": {
     "languageId": "polyglot-notebook"
    }
   },
   "outputs": [],
   "source": [
    "// Add a user message to ask a non-tax related question\n",
    "chatCompletionsOptions.Messages.Add(new ChatMessage(ChatRole.User, \"When was the last Red Sox Game?\"));\n",
    "\n",
    "// Get chat completions from the OpenAI API using the specified deployment name and chat options\n",
    "Response<ChatCompletions> response = client.GetChatCompletions(deploymentOrModelName: deploymentName, chatCompletionsOptions);\n",
    "\n",
    "// Print the response message content to the console\n",
    "Console.WriteLine(TheHelper.ConsoleWriteLine(response.Value.Choices[0].Message.Content));\n",
    "\n",
    "// Print a blank line to separate the output from the next message\n",
    "Console.WriteLine();"
   ]
  },
  {
   "attachments": {},
   "cell_type": "markdown",
   "metadata": {},
   "source": [
    "Now, let ask for something realted to Taxes"
   ]
  },
  {
   "cell_type": "code",
   "execution_count": null,
   "metadata": {
    "dotnet_interactive": {
     "language": "csharp"
    },
    "polyglot_notebook": {
     "kernelName": "csharp"
    },
    "vscode": {
     "languageId": "polyglot-notebook"
    }
   },
   "outputs": [],
   "source": [
    "// Add a user message to ask a tax-related question\n",
    "chatCompletionsOptions.Messages.Add(new ChatMessage(ChatRole.User, \"Is a contribution to the Boston Fine Arts Museum tax deductible?\"));\n",
    "\n",
    "// Get chat completions from the OpenAI API using the specified deployment name and chat options\n",
    "Response<ChatCompletions> response = client.GetChatCompletions(deploymentOrModelName: deploymentName, chatCompletionsOptions);\n",
    "\n",
    "// Print the response message content to the console\n",
    "Console.WriteLine(TheHelper.ConsoleWriteLine(response.Value.Choices[0].Message.Content));\n",
    "\n",
    "// Print a blank line to separate the output from the next message\n",
    "Console.WriteLine();"
   ]
  },
  {
   "attachments": {},
   "cell_type": "markdown",
   "metadata": {},
   "source": [
    "### 2: Ask for a structured output\n",
    "The outcome format plays a crucial role in system-to-system integration, especially when an application is making a call to 'copilot' and receiving the response in JSON format. This format greatly facilitates parsing and is highly advantageous in terms of ease of use.\n"
   ]
  },
  {
   "cell_type": "code",
   "execution_count": null,
   "metadata": {
    "dotnet_interactive": {
     "language": "csharp"
    },
    "polyglot_notebook": {
     "kernelName": "csharp"
    },
    "vscode": {
     "languageId": "polyglot-notebook"
    }
   },
   "outputs": [],
   "source": [
    "// Add a user message to ask for a list of deductible expenses in JSON format\n",
    "chatCompletionsOptions.Messages.Add(new ChatMessage(ChatRole.User, \"Generate a list of 2 deductible text expenses, in json format document, with the following keys: Expense, description\"));\n",
    "\n",
    "// Get chat completions from the OpenAI API using the specified deployment name and chat options\n",
    "Response<ChatCompletions> response = client.GetChatCompletions(deploymentOrModelName: deploymentName, chatCompletionsOptions);\n",
    "\n",
    "// Print the response message content to the console\n",
    "Console.WriteLine(response.Value.Choices[0].Message.Content);\n",
    "\n",
    "// Print a blank line to separate the output from the next message\n",
    "Console.WriteLine();"
   ]
  },
  {
   "attachments": {},
   "cell_type": "markdown",
   "metadata": {},
   "source": [
    "### 3: Ask the model to check whether conditions are satisfied\n",
    "Instruct the model to verify conditions. This prevents irrelevant or incorrect responses. For example, ask the model to rewrite instructions in a specific format or indicate `\"No instruction steps provided\"` if no instructions are found. The model follows these instructions accurately based on the conditions being satisfied or not.\n",
    "\n",
    "A. Extract instructions from a text."
   ]
  },
  {
   "cell_type": "code",
   "execution_count": null,
   "metadata": {
    "dotnet_interactive": {
     "language": "csharp"
    },
    "polyglot_notebook": {
     "kernelName": "csharp"
    },
    "vscode": {
     "languageId": "polyglot-notebook"
    }
   },
   "outputs": [],
   "source": [
    "// Define the text to be analyzed\n",
    "//This description about how to fill taxes in US was generated by CHATGPT using Shakespeare tone.\n",
    "string Shakespeare = @\"Good friends, attend to these words most wise, For I shall share with thee five steps to complete thy tax declaration with no surprise.\n",
    "Gather all documents that show thy income and expenses, For these shall be the basis of thy tax declaration hence.\n",
    "Determine if thou art eligible for deductions or credits most fair, For these can reduce thy tax burden with much care.\n",
    "Calculate thy adjusted gross income with precision, For this shall be the basis of thy tax calculation.\n",
    "Choose whether to itemize or take the standard deduction with thought, For this decision can affect how much tax thou ought.\n",
    "And finally, complete thy tax forms with care and attention, For accuracy is key to avoid any contention.\n",
    "Thus have I shared with thee five steps to complete thy tax declaration with ease, May it bring thee peace of mind and much financial ease.\";\n",
    "\n",
    "// Prompt the user to analyze the text and rewrite the instructions as a list\n",
    "string CheckConditionPrompt = @\"Analyse the following text and if it contains sequence of instructions, re-write those instructions as a list. \n",
    "If you don't find any sntriction say: \"\"No instruction steps provided, this is the way.\"\" This is the Text: \" + Shakespeare;\n",
    "\n",
    "// Send the prompt to the chatbot and get a response\n",
    "chatCompletionsOptions.Messages.Add(new ChatMessage(ChatRole.User, CheckConditionPrompt));\n",
    "Response<ChatCompletions> response = client.GetChatCompletions(deploymentOrModelName: deploymentName, chatCompletionsOptions);\n",
    "\n",
    "// Print the response to the console\n",
    "Console.WriteLine(response.Value.Choices[0].Message.Content);\n",
    "Console.WriteLine();"
   ]
  },
  {
   "attachments": {},
   "cell_type": "markdown",
   "metadata": {},
   "source": [
    "B. Try a text without instructions on it."
   ]
  },
  {
   "cell_type": "code",
   "execution_count": null,
   "metadata": {
    "dotnet_interactive": {
     "language": "csharp"
    },
    "polyglot_notebook": {
     "kernelName": "csharp"
    },
    "vscode": {
     "languageId": "polyglot-notebook"
    }
   },
   "outputs": [],
   "source": [
    "//Henry Wadsworth Longfellow, and the poem is titled \"A Psalm of Life.\"\n",
    "string Longfellow=@\"Tell me not, in mournful numbers,\n",
    "\"\"Life is but an empty dream!\"\"\n",
    "For the soul is dead that slumbers,\n",
    "And things are not what they seem.\n",
    "\n",
    "Life is real! Life is earnest!\n",
    "And the grave is not its goal;\n",
    "\"\"Dust thou art, to dust returnest,\"\"\n",
    "Was not spoken of the soul.\";\n",
    "\n",
    "string CheckConditionPrompt = @\"Analyse the following text and if it contains sequence of instructions, re-write those instructions as a list. \n",
    "If you don't find any instructions say: \"\"No instruction steps provided, this is the way.\"\". This is the Text: \" + Longfellow;\n",
    "\n",
    "// Send the prompt to the chatbot and get a response\n",
    "chatCompletionsOptions.Messages.Add(new ChatMessage(ChatRole.User, CheckConditionPrompt));\n",
    "Response<ChatCompletions> response = client.GetChatCompletions(deploymentOrModelName: deploymentName, chatCompletionsOptions);\n",
    "\n",
    "// Print the response to the console\n",
    "Console.WriteLine(response.Value.Choices[0].Message.Content);\n",
    "Console.WriteLine(\"Longfellow\");"
   ]
  },
  {
   "attachments": {},
   "cell_type": "markdown",
   "metadata": {},
   "source": [
    "Next Sample [Split complex task into simpler sub task](./3.SplitComplexTaskIntoSimplerSubTask.ipynb)"
   ]
  }
 ],
 "metadata": {
  "language_info": {
   "name": "python"
  },
  "orig_nbformat": 4
 },
 "nbformat": 4,
 "nbformat_minor": 2
}
