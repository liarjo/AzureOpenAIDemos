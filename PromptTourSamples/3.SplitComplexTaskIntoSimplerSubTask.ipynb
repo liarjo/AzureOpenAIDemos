{
 "cells": [
  {
   "attachments": {},
   "cell_type": "markdown",
   "metadata": {},
   "source": [
    "# Split complex task \n",
    "\n"
   ]
  },
  {
   "attachments": {},
   "cell_type": "markdown",
   "metadata": {},
   "source": [
    "## Chain-of-thought (CoT) prompting \n",
    "Introduced in Wei et al. (2022)(opens in a new tab), `chain-of-thought (CoT)` prompting enables complex reasoning capabilities through intermediate reasoning steps. You can combine it with few-shot prompting to get better results on more complex tasks that require reasoning before responding."
   ]
  },
  {
   "attachments": {},
   "cell_type": "markdown",
   "metadata": {},
   "source": [
    "### 1. Logic challenge\n"
   ]
  },
  {
   "cell_type": "code",
   "execution_count": null,
   "metadata": {
    "dotnet_interactive": {
     "language": "csharp"
    },
    "polyglot_notebook": {
     "kernelName": "csharp"
    },
    "vscode": {
     "languageId": "polyglot-notebook"
    }
   },
   "outputs": [],
   "source": [
    "#r \"nuget: Azure.AI.OpenAI, 1.0.0-beta.5\"\n",
    "\n",
    "using Azure;\n",
    "using Azure.AI.OpenAI;\n",
    "using static System.Environment;\n",
    "\n",
    "// Import the helper class to load configuration values\n",
    "#!import ../Config/TheHelper.cs\n",
    "\n",
    "// Load configuration values\n",
    "string endpoint = TheHelper.GetConfigurationValue(\"endpoint\");\n",
    "string apiKey = TheHelper.GetConfigurationValue(\"apikey\");\n",
    "string deploymentName =TheHelper.GetConfigurationValue(\"DeploymentName\");\n",
    "\n",
    "// Create the OpenAI client\n",
    "OpenAIClient client = new(new Uri(endpoint), new AzureKeyCredential(apiKey));\n",
    "\n",
    "// Print a message to indicate that the client is ready to use\n",
    "Console.WriteLine(\"OpenAI client is ready to use.\");"
   ]
  },
  {
   "attachments": {},
   "cell_type": "markdown",
   "metadata": {},
   "source": [
    "This confusion prompt will generate a wrong or contradictory answer."
   ]
  },
  {
   "cell_type": "code",
   "execution_count": null,
   "metadata": {
    "dotnet_interactive": {
     "language": "csharp"
    },
    "polyglot_notebook": {
     "kernelName": "csharp"
    },
    "vscode": {
     "languageId": "polyglot-notebook"
    }
   },
   "outputs": [],
   "source": [
    "// Create a new ChatCompletionsOptions object with a system message and a maximum token count\n",
    "// For this example we are using ChatCompletionsOptions to send a prompt to the API and get a response\n",
    "var chatCompletionsOptions = new ChatCompletionsOptions()\n",
    "{\n",
    "    Messages =\n",
    "    {\n",
    "        new ChatMessage(ChatRole.System, @\"You are an AI assistant that helps to solve math calculations.\"),\n",
    "    },\n",
    "    MaxTokens = 100\n",
    "};\n",
    "\n",
    "// Set the chat prompt and add it to the ChatCompletionsOptions object as a user message\n",
    "string thePrompt = @\"The odd numbers in this group add up to an even number: 15, 32, 5, 13, 82, 7, 1. \";\n",
    "chatCompletionsOptions.Messages.Add(new ChatMessage(ChatRole.User, thePrompt));\n",
    "\n",
    "// Send the ChatCompletionsOptions object to the OpenAI API and get a response\n",
    "Response<ChatCompletions> response = client.GetChatCompletions(deploymentOrModelName: deploymentName, chatCompletionsOptions);\n",
    "\n",
    "// Print the chat response to the console\n",
    "Console.WriteLine((response.Value.Choices[0].Message.Content));\n",
    "Console.WriteLine();"
   ]
  },
  {
   "attachments": {},
   "cell_type": "markdown",
   "metadata": {},
   "source": [
    "Chain of Thought Prompting revolutionizes the conventional question-and-answer paradigm by compelling the model to generate intermediate reasoning steps prior to presenting the ultimate solution to a multi-step problem. The underlying principle is to mimic an intuitive thought process, wherein the model-produced Chain of Thought mirrors the logical progression one would undertake when tackling complex reasoning challenges. This methodology empowers the model to exhibit enhanced problem-solving capabilities and exhibit human-like reasoning abilities.\n",
    "\n",
    "Let's assist the model by providing it with some samples, which will serve as a means of enhancing `its cognitive capabilities`.\n",
    "By incorporating these intermediate steps within the prompt, we foster an environment that prompts the model to adhere to a meticulously structured thought process closely emulating the principles of human reasoning."
   ]
  },
  {
   "cell_type": "code",
   "execution_count": null,
   "metadata": {
    "dotnet_interactive": {
     "language": "csharp"
    },
    "polyglot_notebook": {
     "kernelName": "csharp"
    },
    "vscode": {
     "languageId": "polyglot-notebook"
    }
   },
   "outputs": [],
   "source": [
    "// Create a new ChatCompletionsOptions object with a system message and a maximum token count\n",
    "var chatCompletionsOptions = new ChatCompletionsOptions()\n",
    "{\n",
    "    Messages =\n",
    "    {\n",
    "        new ChatMessage(ChatRole.System, @\"You are an AI assistant that helps to solve math calculations.\"),\n",
    "        // All the following User messages and Assistant responses are exaples to help the model to generate the correct answer\n",
    "        new ChatMessage(ChatRole.User, \"The odd numbers in this group add up to an even number: 4, 8, 9, 15, 12, 2, 1.\"),\n",
    "        new ChatMessage(ChatRole.Assistant, \"Adding all the odd numbers (9, 15, 1) gives 25. The answer is False.\"),\n",
    "        new ChatMessage(ChatRole.User, \"The odd numbers in this group add up to an even number: 17,  10, 19, 4, 8, 12, 24.\"),\n",
    "        new ChatMessage(ChatRole.Assistant, \"Adding all the odd numbers (17, 19) gives 36. The answer is True.\"),\n",
    "        new ChatMessage(ChatRole.User, \"The odd numbers in this group add up to an even number: 16,  11, 14, 4, 8, 13, 24.\"),\n",
    "        new ChatMessage(ChatRole.Assistant, \"Adding all the odd numbers (11, 13) gives 24. The answer is True.\"),\n",
    "        new ChatMessage(ChatRole.User, \"The odd numbers in this group add up to an even number: 17,  9, 10, 12, 13, 4, 2.\"),\n",
    "        new ChatMessage(ChatRole.Assistant, \"Adding all the odd numbers (17, 9, 13) gives 39. The answer is False.\"),\n",
    "    },\n",
    "    MaxTokens = 100\n",
    "};\n",
    "\n",
    "// Set the chat prompt and add it to the ChatCompletionsOptions object as a user message\n",
    "string thePrompt = @\"The odd numbers in this group add up to an even number: 15, 32, 5, 13, 82, 7, 1. \";\n",
    "chatCompletionsOptions.Messages.Add(new ChatMessage(ChatRole.User, thePrompt));\n",
    "\n",
    "// Send the ChatCompletionsOptions object to the OpenAI API and get a response\n",
    "Response<ChatCompletions> response = client.GetChatCompletions(deploymentOrModelName: deploymentName, chatCompletionsOptions);\n",
    "\n",
    "// Print the chat response to the console\n",
    "Console.WriteLine((response.Value.Choices[0].Message.Content));\n",
    "Console.WriteLine();"
   ]
  },
  {
   "attachments": {},
   "cell_type": "markdown",
   "metadata": {},
   "source": [
    "## 2. Zero-shot COT Prompting\n",
    "One recent idea that came out more recently is the idea of zero-shot CoT(opens in a new tab) (Kojima et al. 2022) that essentially involves adding `Let's think step by step` to the original prompt.\n",
    "\n",
    "In the realm of language models, few-shot learning and prompting play a crucial role. They equip the model with a set of input-output pairs, structured as questions and answers, and subsequently challenge the model to predict the answer for a test-time example. This approach leverages the power of examples to enhance the model's ability to generalize and make accurate predictions."
   ]
  },
  {
   "cell_type": "code",
   "execution_count": null,
   "metadata": {
    "dotnet_interactive": {
     "language": "csharp"
    },
    "polyglot_notebook": {
     "kernelName": "csharp"
    },
    "vscode": {
     "languageId": "polyglot-notebook"
    }
   },
   "outputs": [],
   "source": [
    "// Create a new ChatCompletionsOptions object with a system message and a maximum token count\n",
    "var chatCompletionsOptions = new ChatCompletionsOptions()\n",
    "{\n",
    "    Messages =\n",
    "    {\n",
    "        new ChatMessage(ChatRole.System, @\"You are an AI assistant that helps to solve math calculations.\"),\n",
    "    },\n",
    "    MaxTokens = 100\n",
    "};\n",
    "\n",
    "// Set the chat prompt and add it to the ChatCompletionsOptions object as a user message\n",
    "string thePrompt = @\"\n",
    "    The odd numbers in this group add up to an even number: 15, 32, 5, 13, 82, 7, 1.\n",
    "    Let's think step by step, don't answer until you have completed all the steps. \n",
    "\";\n",
    "chatCompletionsOptions.Messages.Add(new ChatMessage(ChatRole.User, thePrompt));\n",
    "\n",
    "// Send the ChatCompletionsOptions object to the OpenAI API and get a response\n",
    "Response<ChatCompletions> response = client.GetChatCompletions(deploymentOrModelName: deploymentName, chatCompletionsOptions);\n",
    "\n",
    "// Print the chat response to the console\n",
    "Console.WriteLine((response.Value.Choices[0].Message.Content));\n",
    "Console.WriteLine();"
   ]
  }
 ],
 "metadata": {
  "language_info": {
   "name": "python"
  },
  "orig_nbformat": 4
 },
 "nbformat": 4,
 "nbformat_minor": 2
}
