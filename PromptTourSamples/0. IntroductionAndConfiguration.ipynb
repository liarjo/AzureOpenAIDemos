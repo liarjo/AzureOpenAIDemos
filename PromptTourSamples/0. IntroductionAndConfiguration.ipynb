{
 "cells": [
  {
   "attachments": {},
   "cell_type": "markdown",
   "metadata": {},
   "source": [
    "# Pre-requisites\n",
    "\n",
    "The following software needs to be installed on your computer:\n",
    "\n",
    "* [Visual Studio Code](https://code.visualstudio.com/Download)\n",
    "* The latest [.Net 7.0 SDK](https://dotnet.microsoft.com/en-us/download) \n",
    "* [Polyglot Notebooks for VS Code](https://marketplace.visualstudio.com/items?itemName=ms-dotnettools.dotnet-interactive-vscode)\n",
    "\n",
    "When the three items above are installed, the code notebooks should be formatted nicely with code blocks that have a little ▶️ (play) button next to them when you hover over the code. The \"Polyglot Notebooks for VS Code\" extension is what lets you run all the code snippets from within VS Code.\n",
    "\n",
    "Separate from installing software, you will need to have an API key to access the OpenAI models. \n",
    "\n",
    "* Azure OpenAI key via [Azure OpenAI Service](https://learn.microsoft.com/en-us/azure/cognitive-services/openai/quickstart). \n",
    "* Access your Azure Open AI Service with [these instructions](https://learn.microsoft.com/en-us/azure/cognitive-services/openai/reference).\n",
    "\n",
    "## After you have achieved all the prerequisites, let's save the configuration in the settings.json file\n",
    "To configure your enviroment you need only 3 data points\n",
    "\n",
    "* \"endpoint\": \"[your Azure OpenAI endpoint URL]\",\n",
    "*  \"apikey\": \"[your API KEY]\",\n",
    "* \"DeploymentName\": \"[Your deployment model name, Deploy model Turbo3.5]\"\n",
    "\n",
    "Add all this configuration in [Settings.json](../Config/settings.json) file.\n",
    "\n",
    "## After have your setting file ready, all set for the [first sample!](1.AOAI-SDK.ipynb)"
   ]
  }
 ],
 "metadata": {
  "language_info": {
   "name": "python"
  },
  "orig_nbformat": 4
 },
 "nbformat": 4,
 "nbformat_minor": 2
}
